{
 "cells": [
  {
   "cell_type": "markdown",
   "metadata": {},
   "source": [
    "# <b style='font-family:helvetica;color:green'> Final Year Project </b></br>\n",
    "##  <b style='font-family:helvetica;color:darkgreen'>1.) Scrapping Tweets from Twitter</b> "
   ]
  },
  {
   "cell_type": "code",
   "execution_count": 10,
   "metadata": {},
   "outputs": [],
   "source": [
    "import tweepy\n",
    "import csv\n",
    "import pandas as pd\n",
    "import os"
   ]
  },
  {
   "cell_type": "code",
   "execution_count": 11,
   "metadata": {},
   "outputs": [],
   "source": [
    "####input your credentials here\n",
    "consumer_key = '2cpyupGz4C3gCb5GjPldt4THL'\n",
    "consumer_secret = 'jhGP3AvcS15oDdeQJ5qfONiC2yiJr0ZpM4yXVzNUZJ6O4Qhzzd'\n",
    "access_token = '1418613104-3z6xZ2lEbPcFGPx7OGkbV2FZeDVPQhKIWJie6CG'\n",
    "access_token_secret = 'ynQp9h4oIMGRFNl3XqQjKz2VHpY5duFwEcjwxqxo9aheZ'"
   ]
  },
  {
   "cell_type": "code",
   "execution_count": 12,
   "metadata": {},
   "outputs": [],
   "source": [
    "auth = tweepy.OAuthHandler(consumer_key, consumer_secret)\n",
    "auth.set_access_token(access_token, access_token_secret)\n",
    "api = tweepy.API(auth,wait_on_rate_limit=True)"
   ]
  },
  {
   "cell_type": "code",
   "execution_count": 13,
   "metadata": {},
   "outputs": [],
   "source": [
    "### Creating Pandas DataFrame to store Tweets\n",
    "def findtweets(querry):\n",
    "    t = pd.DataFrame(columns=[\"Date\",\"Tweets\"])\n",
    "    for tweet in tweepy.Cursor(api.search,q=\"#\"+querry+\"\",count=100,lang=\"en\",since=\"2018-04-03\").items():\n",
    "        \n",
    "\n",
    "        if(tweet.text[:2] == \"RT\"):\n",
    "            pass\n",
    "        else:\n",
    "            t = t.append({\"Date\":tweet.created_at,\"Tweets\":tweet.text.replace(\"\\n\",\" \")},ignore_index=True)\n",
    "\t \n",
    "        if len(t)==50:\n",
    "            break\n",
    "\n",
    "## Put the path of the file in the path variable.. Example path = r\"G:\\sss.csv\"\n",
    "    #path = r\"C:\\Users\\kunalverma\\Desktop\\\"\"+querry+\".csv\"\n",
    "\n",
    "    p=os.path.join('C:\\\\','Users',os.getlogin(),'Desktop')\n",
    "\n",
    "    path=r''+p+'\\ '+querry+'.csv'\n",
    "    t.to_csv(path)\n",
    "    \n",
    "## Top 10 Tweet Displaying on window\n",
    "    dateLabel=Label(window,text='Date',font=(\"Helvetica\",10,\"bold\"),background=\"white\")\n",
    "    dateLabel.place(x=40,y=160)\n",
    "    tweetLabel=Label(window,text='Tweets',font=(\"Helvetica\",10,\"bold\"),background=\"white\")\n",
    "    tweetLabel.place(x=130,y=160)\n",
    "    \n",
    "    top10=t.head(10)\n",
    "    \n",
    "    dates=''\n",
    "    tweets=''\n",
    "    char_list=''\n",
    "    tweet=''\n",
    "    \n",
    "## Removing those Characters that Tkinter Don't display.\n",
    "    for j in range(len(top10.Tweets)):\n",
    "        char_list=''\n",
    "        for i in range(len(top10.Tweets[j])):\n",
    "            if (ord(top10.Tweets[j][i]) in range(65536) and top10.Tweets[j][i]!=' '):\n",
    "                char_list+=top10.Tweets[j][i]\n",
    "        for k in char_list:\n",
    "            tweet=tweet+k\n",
    "        tweets+=tweet+'\\n\\n'\n",
    "        tweet=''\n",
    "        print()\n",
    "        \n",
    "    for i in top10.Date:\n",
    "        temp=str(i)\n",
    "        n=temp[:10]\n",
    "        dates+=n+'\\n\\n'\n",
    "\n",
    "## Displaying the Data\n",
    "    tempdate=str(top10.Date[0])\n",
    "    dLabel1=Label(window,text=dates,font=(\"Helvetica\",10,\"bold\"),background=\"white\")\n",
    "    dLabel1.place(x=40,y=205)\n",
    "    tLabel1=Label(window,text=tweets,font=(\"Helvetica\",10),background=\"white\")\n",
    "    tLabel1.place(x=130,y=205)\n",
    "    \n",
    "    fileaddresslabel=Label(window,text=str(\"Detailed File Saved at \"+path),font=(\"Helvetica\",15,\"bold\"),background=\"white\")\n",
    "    fileaddresslabel.place(x=40,y=550)"
   ]
  },
  {
   "cell_type": "markdown",
   "metadata": {},
   "source": [
    "# GUI"
   ]
  },
  {
   "cell_type": "code",
   "execution_count": 14,
   "metadata": {},
   "outputs": [],
   "source": [
    "from tkinter import *\n",
    "from tkinter import messagebox\n",
    "import base64\n",
    "from urllib.request import urlopen"
   ]
  },
  {
   "cell_type": "code",
   "execution_count": 15,
   "metadata": {},
   "outputs": [],
   "source": [
    "image_url = \"https://raw.githubusercontent.com/dineshpabbi10/Twitter-Hashtag-Scrapper/master/images/i1.png\"\n",
    "image_byt = urlopen(image_url).read()\n",
    "image_b64 = base64.encodebytes(image_byt)\n",
    "\n",
    "image_url1 = \"https://raw.githubusercontent.com/dineshpabbi10/Twitter-Hashtag-Scrapper/master/images/cooltext315236238392377%20(7).png\"\n",
    "image_byt1 = urlopen(image_url1).read()\n",
    "image_b641 = base64.encodebytes(image_byt1)"
   ]
  },
  {
   "cell_type": "code",
   "execution_count": 16,
   "metadata": {},
   "outputs": [],
   "source": [
    "def writetweet(topicEntry):\n",
    "    if (str(topicEntry.get())=='' or not str(topicEntry.get())):\n",
    "        message=\"Enter Valid Topic\"\n",
    "        heading=\"Empty Fields\"\n",
    "        messagebox.showinfo(heading,message)\n",
    "    else:\n",
    "        findtweets(str(topicEntry.get()))"
   ]
  },
  {
   "cell_type": "code",
   "execution_count": 17,
   "metadata": {},
   "outputs": [
    {
     "name": "stdout",
     "output_type": "stream",
     "text": [
      "\n",
      "\n",
      "\n",
      "\n",
      "\n",
      "\n",
      "\n",
      "\n",
      "\n",
      "\n"
     ]
    }
   ],
   "source": [
    "window=Tk()\n",
    "window.geometry(\"1200x600+50+100\")\n",
    "window.title(\"Tweet Scrapping\")\n",
    "window.configure(background='white')\n",
    "photo=PhotoImage(data=image_b64)\n",
    "BL=Label(window,image=photo,background='white')\n",
    "BL.place(x=400,y=-30)\n",
    "\n",
    "photo1=PhotoImage(data=image_b641)\n",
    "BL1=Label(window,image=photo1,background='white')\n",
    "BL1.place(x=620,y=40)\n",
    "\n",
    "txtlabel=Label(window,text='Enter Topic',font=(\"Helvetica\",15,\"bold\"),background=\"white\")\n",
    "txtlabel.place(x=20,y=40)\n",
    "topicEntry=Entry(window,bd=3,width=40)\n",
    "topicEntry.place(x=160,y=45)\n",
    "B1=Button(window,text=\"Submit\",command=lambda: writetweet(topicEntry),bd=5,width=18,height=1)\n",
    "B1.place(x=180,y=100)\n",
    "\n",
    "#window.wm_attributes('-transparentcolor', heading['bg'])\n",
    "\n",
    "window.mainloop()"
   ]
  }
 ],
 "metadata": {
  "kernelspec": {
   "display_name": "Python 3",
   "language": "python",
   "name": "python3"
  },
  "language_info": {
   "codemirror_mode": {
    "name": "ipython",
    "version": 3
   },
   "file_extension": ".py",
   "mimetype": "text/x-python",
   "name": "python",
   "nbconvert_exporter": "python",
   "pygments_lexer": "ipython3",
   "version": "3.6.7"
  }
 },
 "nbformat": 4,
 "nbformat_minor": 2
}
