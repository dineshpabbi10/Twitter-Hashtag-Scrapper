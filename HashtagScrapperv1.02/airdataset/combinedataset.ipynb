{
 "cells": [
  {
   "cell_type": "code",
   "execution_count": 1,
   "metadata": {},
   "outputs": [],
   "source": [
    "import pandas as pd\n",
    "import numpy as np"
   ]
  },
  {
   "cell_type": "code",
   "execution_count": 2,
   "metadata": {},
   "outputs": [
    {
     "data": {
      "text/html": [
       "<div>\n",
       "<style scoped>\n",
       "    .dataframe tbody tr th:only-of-type {\n",
       "        vertical-align: middle;\n",
       "    }\n",
       "\n",
       "    .dataframe tbody tr th {\n",
       "        vertical-align: top;\n",
       "    }\n",
       "\n",
       "    .dataframe thead th {\n",
       "        text-align: right;\n",
       "    }\n",
       "</style>\n",
       "<table border=\"1\" class=\"dataframe\">\n",
       "  <thead>\n",
       "    <tr style=\"text-align: right;\">\n",
       "      <th></th>\n",
       "      <th>Unnamed: 0</th>\n",
       "      <th>Date</th>\n",
       "      <th>Tweets</th>\n",
       "    </tr>\n",
       "  </thead>\n",
       "  <tbody>\n",
       "  </tbody>\n",
       "</table>\n",
       "</div>"
      ],
      "text/plain": [
       "Empty DataFrame\n",
       "Columns: [Unnamed: 0, Date, Tweets]\n",
       "Index: []"
      ]
     },
     "execution_count": 2,
     "metadata": {},
     "output_type": "execute_result"
    }
   ],
   "source": [
    "aerolineasargentinas_csv=pd.read_csv('aerolineasargentinas.csv')"
   ]
  },
  {
   "cell_type": "code",
   "execution_count": 3,
   "metadata": {},
   "outputs": [],
   "source": [
    "AirAsia_csv=pd.read_csv('AirAsia.csv')\n",
    "airindia_csv=pd.read_csv('airindia.csv')\n",
    "airmauritius_csv=pd.read_csv('airmauritius.csv')\n",
    "airNewZealand_csv=pd.read_csv('airNewZealand.csv')\n",
    "allnipponairways_csv=pd.read_csv('allnipponairways.csv')\n",
    "cathaypacific_csv=pd.read_csv('cathaypacific.csv')\n",
    "easyjet_csv=pd.read_csv('easyjet.csv')\n",
    "etihadairways_csv=pd.read_csv('etihadairways.csv')\n",
    "goair_csv=pd.read_csv('goair.csv')\n",
    "iberia_csv=pd.read_csv('iberia.csv')\n",
    "indigo_csv=pd.read_csv('indigo.csv')\n",
    "japanairlines_csv=pd.read_csv('japanairlines.csv')\n",
    "jetairways_csv=pd.read_csv('jetairways.csv')\n",
    "koreanair_csv=pd.read_csv('koreanair.csv')\n",
    "lufthansa_csv=pd.read_csv('lufthansa.csv')\n",
    "pakistanairlines_csv=pd.read_csv('pakistanairlines.csv')\n",
    "pakistaninternationalairlines_csv=pd.read_csv('pakistaninternationalairlines.csv')\n",
    "Qantas_csv=pd.read_csv('Qantas.csv')\n",
    "qatarairways_csv=pd.read_csv('qatarairways.csv')\n",
    "singaporeairlines_csv=pd.read_csv('singaporeairlines.csv')\n",
    "spicejet_csv=pd.read_csv('spicejet.csv')\n",
    "virginatlantic_csv=pd.read_csv('virginatlantic.csv')\n",
    "virginaustralia_csv=pd.read_csv('virginaustralia.csv')\n",
    "Vistara_csv=pd.read_csv('Vistara.csv')\n",
    "WOWAir_csv=pd.read_csv('WOWAir.csv')"
   ]
  },
  {
   "cell_type": "code",
   "execution_count": 5,
   "metadata": {},
   "outputs": [],
   "source": [
    "frames=[\n",
    "    AirAsia_csv,\n",
    "    airindia_csv,\n",
    "    airmauritius_csv,\n",
    "    airNewZealand_csv,\n",
    "    allnipponairways_csv,\n",
    "    cathaypacific_csv,\n",
    "    easyjet_csv,\n",
    "    etihadairways_csv,\n",
    "    goair_csv,\n",
    "    iberia_csv,\n",
    "    indigo_csv,\n",
    "    japanairlines_csv,\n",
    "    jetairways_csv,\n",
    "    koreanair_csv,\n",
    "    lufthansa_csv,\n",
    "    pakistanairlines_csv,\n",
    "    pakistaninternationalairlines_csv,\n",
    "    Qantas_csv,\n",
    "    qatarairways_csv,\n",
    "    singaporeairlines_csv,\n",
    "    spicejet_csv,\n",
    "    virginatlantic_csv,\n",
    "    virginaustralia_csv,\n",
    "    Vistara_csv,\n",
    "    WOWAir_csv\n",
    "]\n"
   ]
  },
  {
   "cell_type": "code",
   "execution_count": 13,
   "metadata": {},
   "outputs": [],
   "source": [
    "airdata=pd.concat(frames)\n",
    "airdata=airdata.drop('Unnamed: 0',axis=1)"
   ]
  },
  {
   "cell_type": "code",
   "execution_count": 17,
   "metadata": {},
   "outputs": [],
   "source": [
    "airdata=airdata.drop_duplicates('Tweets')"
   ]
  },
  {
   "cell_type": "code",
   "execution_count": 23,
   "metadata": {},
   "outputs": [],
   "source": [
    "airdata=airdata.sort_values(by='Date',kind='mergesort')"
   ]
  },
  {
   "cell_type": "code",
   "execution_count": 25,
   "metadata": {},
   "outputs": [],
   "source": [
    "airdata.to_csv('airdata.csv',index=None)"
   ]
  }
 ],
 "metadata": {
  "kernelspec": {
   "display_name": "Python 3",
   "language": "python",
   "name": "python3"
  },
  "language_info": {
   "codemirror_mode": {
    "name": "ipython",
    "version": 3
   },
   "file_extension": ".py",
   "mimetype": "text/x-python",
   "name": "python",
   "nbconvert_exporter": "python",
   "pygments_lexer": "ipython3",
   "version": "3.6.7"
  }
 },
 "nbformat": 4,
 "nbformat_minor": 2
}
