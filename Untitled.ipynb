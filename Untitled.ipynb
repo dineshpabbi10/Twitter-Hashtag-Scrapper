{
 "cells": [
  {
   "cell_type": "code",
   "execution_count": 9,
   "metadata": {},
   "outputs": [],
   "source": [
    "import numpy as np\n",
    "import matplotlib.pyplot as plt\n",
    "import pandas as pd\n",
    "from sklearn.linear_model import LinearRegression"
   ]
  },
  {
   "cell_type": "code",
   "execution_count": 2,
   "metadata": {},
   "outputs": [],
   "source": [
    "df_train = pd.read_csv(\"train_data.csv\")\n",
    "df_test = pd.read_csv(\"test_data.csv\")"
   ]
  },
  {
   "cell_type": "code",
   "execution_count": 3,
   "metadata": {},
   "outputs": [
    {
     "data": {
      "text/html": [
       "<div>\n",
       "<style scoped>\n",
       "    .dataframe tbody tr th:only-of-type {\n",
       "        vertical-align: middle;\n",
       "    }\n",
       "\n",
       "    .dataframe tbody tr th {\n",
       "        vertical-align: top;\n",
       "    }\n",
       "\n",
       "    .dataframe thead th {\n",
       "        text-align: right;\n",
       "    }\n",
       "</style>\n",
       "<table border=\"1\" class=\"dataframe\">\n",
       "  <thead>\n",
       "    <tr style=\"text-align: right;\">\n",
       "      <th></th>\n",
       "      <th>T</th>\n",
       "      <th>V</th>\n",
       "      <th>P</th>\n",
       "      <th>RH</th>\n",
       "    </tr>\n",
       "  </thead>\n",
       "  <tbody>\n",
       "    <tr>\n",
       "      <th>0</th>\n",
       "      <td>236.34</td>\n",
       "      <td>406.26</td>\n",
       "      <td>91.32</td>\n",
       "      <td>52.36</td>\n",
       "    </tr>\n",
       "    <tr>\n",
       "      <th>1</th>\n",
       "      <td>237.51</td>\n",
       "      <td>308.58</td>\n",
       "      <td>91.85</td>\n",
       "      <td>53.03</td>\n",
       "    </tr>\n",
       "    <tr>\n",
       "      <th>2</th>\n",
       "      <td>123.89</td>\n",
       "      <td>264.18</td>\n",
       "      <td>91.72</td>\n",
       "      <td>53.99</td>\n",
       "    </tr>\n",
       "    <tr>\n",
       "      <th>3</th>\n",
       "      <td>142.35</td>\n",
       "      <td>262.80</td>\n",
       "      <td>92.96</td>\n",
       "      <td>38.08</td>\n",
       "    </tr>\n",
       "    <tr>\n",
       "      <th>4</th>\n",
       "      <td>263.90</td>\n",
       "      <td>350.46</td>\n",
       "      <td>92.19</td>\n",
       "      <td>51.83</td>\n",
       "    </tr>\n",
       "  </tbody>\n",
       "</table>\n",
       "</div>"
      ],
      "text/plain": [
       "        T       V      P     RH\n",
       "0  236.34  406.26  91.32  52.36\n",
       "1  237.51  308.58  91.85  53.03\n",
       "2  123.89  264.18  91.72  53.99\n",
       "3  142.35  262.80  92.96  38.08\n",
       "4  263.90  350.46  92.19  51.83"
      ]
     },
     "execution_count": 3,
     "metadata": {},
     "output_type": "execute_result"
    }
   ],
   "source": [
    "df_test.head(n=5)"
   ]
  },
  {
   "cell_type": "code",
   "execution_count": 4,
   "metadata": {},
   "outputs": [
    {
     "data": {
      "text/html": [
       "<div>\n",
       "<style scoped>\n",
       "    .dataframe tbody tr th:only-of-type {\n",
       "        vertical-align: middle;\n",
       "    }\n",
       "\n",
       "    .dataframe tbody tr th {\n",
       "        vertical-align: top;\n",
       "    }\n",
       "\n",
       "    .dataframe thead th {\n",
       "        text-align: right;\n",
       "    }\n",
       "</style>\n",
       "<table border=\"1\" class=\"dataframe\">\n",
       "  <thead>\n",
       "    <tr style=\"text-align: right;\">\n",
       "      <th></th>\n",
       "      <th>T</th>\n",
       "      <th>V</th>\n",
       "      <th>P</th>\n",
       "      <th>RH</th>\n",
       "      <th>E</th>\n",
       "    </tr>\n",
       "  </thead>\n",
       "  <tbody>\n",
       "    <tr>\n",
       "      <th>0</th>\n",
       "      <td>273.39</td>\n",
       "      <td>420.12</td>\n",
       "      <td>91.84</td>\n",
       "      <td>57.41</td>\n",
       "      <td>1778.12</td>\n",
       "    </tr>\n",
       "    <tr>\n",
       "      <th>1</th>\n",
       "      <td>195.26</td>\n",
       "      <td>248.88</td>\n",
       "      <td>92.29</td>\n",
       "      <td>35.21</td>\n",
       "      <td>1824.16</td>\n",
       "    </tr>\n",
       "    <tr>\n",
       "      <th>2</th>\n",
       "      <td>377.52</td>\n",
       "      <td>360.42</td>\n",
       "      <td>92.31</td>\n",
       "      <td>27.69</td>\n",
       "      <td>1761.72</td>\n",
       "    </tr>\n",
       "    <tr>\n",
       "      <th>3</th>\n",
       "      <td>171.60</td>\n",
       "      <td>244.98</td>\n",
       "      <td>91.61</td>\n",
       "      <td>56.99</td>\n",
       "      <td>1889.64</td>\n",
       "    </tr>\n",
       "    <tr>\n",
       "      <th>4</th>\n",
       "      <td>222.56</td>\n",
       "      <td>353.70</td>\n",
       "      <td>92.43</td>\n",
       "      <td>54.25</td>\n",
       "      <td>1806.68</td>\n",
       "    </tr>\n",
       "  </tbody>\n",
       "</table>\n",
       "</div>"
      ],
      "text/plain": [
       "        T       V      P     RH        E\n",
       "0  273.39  420.12  91.84  57.41  1778.12\n",
       "1  195.26  248.88  92.29  35.21  1824.16\n",
       "2  377.52  360.42  92.31  27.69  1761.72\n",
       "3  171.60  244.98  91.61  56.99  1889.64\n",
       "4  222.56  353.70  92.43  54.25  1806.68"
      ]
     },
     "execution_count": 4,
     "metadata": {},
     "output_type": "execute_result"
    }
   ],
   "source": [
    "df_train.head(n=5)"
   ]
  },
  {
   "cell_type": "code",
   "execution_count": 5,
   "metadata": {},
   "outputs": [],
   "source": [
    "train_x = df_train.values\n",
    "train_y = train_x[:,-1]\n",
    "train_x = train_x[:,:-1]"
   ]
  },
  {
   "cell_type": "code",
   "execution_count": 7,
   "metadata": {},
   "outputs": [
    {
     "name": "stdout",
     "output_type": "stream",
     "text": [
      "[[273.39 420.12  91.84  57.41]\n",
      " [195.26 248.88  92.29  35.21]\n",
      " [377.52 360.42  92.31  27.69]\n",
      " [171.6  244.98  91.61  56.99]\n",
      " [222.56 353.7   92.43  54.25]]\n",
      "<class 'numpy.ndarray'>\n"
     ]
    }
   ],
   "source": [
    "print(train_x[:5])\n",
    "print(type(train_x))"
   ]
  },
  {
   "cell_type": "code",
   "execution_count": 8,
   "metadata": {},
   "outputs": [
    {
     "name": "stdout",
     "output_type": "stream",
     "text": [
      "[1778.12 1824.16 1761.72 1889.64 1806.68]\n",
      "<class 'numpy.ndarray'>\n"
     ]
    }
   ],
   "source": [
    "print(train_y[:5])\n",
    "print(type(train_y))"
   ]
  },
  {
   "cell_type": "code",
   "execution_count": 11,
   "metadata": {},
   "outputs": [
    {
     "name": "stdout",
     "output_type": "stream",
     "text": [
      "[[236.34 406.26  91.32  52.36]\n",
      " [237.51 308.58  91.85  53.03]\n",
      " [123.89 264.18  91.72  53.99]\n",
      " [142.35 262.8   92.96  38.08]\n",
      " [263.9  350.46  92.19  51.83]]\n"
     ]
    }
   ],
   "source": [
    "test_x = df_test.values\n",
    "print(test_x[:5])"
   ]
  },
  {
   "cell_type": "code",
   "execution_count": 13,
   "metadata": {},
   "outputs": [],
   "source": [
    "model = LinearRegression(normalize=True)"
   ]
  },
  {
   "cell_type": "code",
   "execution_count": 14,
   "metadata": {},
   "outputs": [
    {
     "data": {
      "text/plain": [
       "LinearRegression(copy_X=True, fit_intercept=True, n_jobs=None, normalize=True)"
      ]
     },
     "execution_count": 14,
     "metadata": {},
     "output_type": "execute_result"
    }
   ],
   "source": [
    "model.fit(train_x,train_y)"
   ]
  },
  {
   "cell_type": "code",
   "execution_count": 19,
   "metadata": {},
   "outputs": [
    {
     "name": "stdout",
     "output_type": "stream",
     "text": [
      "[1777.10092047 1875.26180077 1756.19593437 ... 1791.5478292  1784.86028687\n",
      " 1865.00863626]\n"
     ]
    }
   ],
   "source": [
    "y_p = model.predict(train_x)\n",
    "print(y_p)"
   ]
  },
  {
   "cell_type": "markdown",
   "metadata": {},
   "source": [
    "# Predicting of test data"
   ]
  },
  {
   "cell_type": "code",
   "execution_count": 27,
   "metadata": {},
   "outputs": [
    {
     "name": "stdout",
     "output_type": "stream",
     "text": [
      "0.9285218855512961\n"
     ]
    }
   ],
   "source": [
    "print(model.score(train_x,train_y))"
   ]
  },
  {
   "cell_type": "code",
   "execution_count": 28,
   "metadata": {},
   "outputs": [
    {
     "name": "stdout",
     "output_type": "stream",
     "text": [
      "[1805.49397459 1821.13287974 1894.84148225 1903.07416548 1800.56211847\n",
      " 1789.42638908 1723.26824251 1801.13708056 1723.68258772 1795.82987861\n",
      " 1794.44100475 1865.83076115 1919.16115758 1904.64631333 1928.57321689\n",
      " 1818.56044537 1773.27982433 1771.09937574 1863.70793841 1782.9784296\n",
      " 1734.05967349 1782.4745131  1770.52062601 1772.33269406 1820.13981063\n",
      " 1771.85171699 1866.95087813 1804.22033108 1876.89874081 1716.48261208\n",
      " 1907.49819792 1825.41012753 1769.19152751 1765.65173653 1767.25130382\n",
      " 1818.51952388 1806.0266863  1886.79641944 1874.11210891 1874.16800963\n",
      " 1770.70756048 1784.66376365 1883.72687048 1796.88930772 1789.90381836\n",
      " 1764.66419674 1724.4679944  1777.62652843 1779.96051706 1789.99346258\n",
      " 1914.59118101 1888.46905991 1892.45858058 1862.31835523 1782.21184222\n",
      " 1755.89836015 1930.17125429 1842.88575498 1879.9517756  1715.72343397\n",
      " 1853.41715878 1790.53071947 1791.55041073 1895.24990099 1853.92806733\n",
      " 1840.94277589 1878.04029369 1774.22207117 1762.6237447  1783.29325751\n",
      " 1868.64715193 1734.49191485 1859.08390052 1823.97038084 1856.88960984\n",
      " 1751.0437377  1782.58098869 1805.90962409 1933.23161639 1870.02690293\n",
      " 1932.99413141 1752.65429403 1806.92272725 1921.9705767  1783.90496421\n",
      " 1874.06481121 1750.93758697 1849.90090411 1817.20450648 1848.40445184\n",
      " 1782.12978107 1778.93903385 1904.08080754 1783.8341888  1877.89421866\n",
      " 1871.0969287  1898.76488469 1816.06357884 1883.07598911 1869.50183697\n",
      " 1732.72854043 1809.41648607 1787.94387877 1827.86177763 1777.85131829\n",
      " 1776.06811208 1866.51847859 1772.60756663 1874.72683378 1905.79771157\n",
      " 1924.37222812 1760.12581203 1718.48023577 1729.25367811 1917.29154717\n",
      " 1753.62586507 1887.50466421 1834.04008048 1894.02741562 1720.05959241\n",
      " 1904.31662176 1901.57456321 1865.09544527 1804.33310734 1884.37252128\n",
      " 1882.8432924  1807.47391081 1867.2061336  1843.40853303 1736.52950572\n",
      " 1797.08301779 1751.5859338  1807.99925601 1873.28016823 1725.27615229\n",
      " 1752.16991332 1835.90482541 1765.08919336 1869.84825534 1850.80389378\n",
      " 1885.01427528 1891.06295462 1880.59582103 1811.88759706 1761.21246035\n",
      " 1855.14408161 1702.1591764  1782.65916805 1908.6419188  1758.84980484\n",
      " 1733.81883107 1812.39926012 1840.54447981 1706.09251462 1819.65460755\n",
      " 1870.62683683 1852.5762965  1913.63226226 1765.94898725 1932.12825909\n",
      " 1811.11192361 1884.79993368 1782.30371681 1886.03982441 1756.26337051\n",
      " 1877.72142519 1866.25362465 1811.69488563 1921.86946014 1813.13666486\n",
      " 1810.90642748 1797.02587796 1729.5664107  1865.53961522 1721.4419556\n",
      " 1899.38928531 1781.06590112 1778.79856194 1717.64993361 1927.85973358\n",
      " 1927.13681245 1853.79289078 1777.87559155 1828.85562081 1801.19999214\n",
      " 1856.94973396 1733.43188797 1732.94549589 1877.25622173 1815.70859162\n",
      " 1780.10428714 1922.06091256 1887.88319036 1878.17901481 1901.23733339\n",
      " 1749.02340061 1723.55419347 1911.84784868 1734.02104113 1819.10169736]\n"
     ]
    }
   ],
   "source": [
    "y_pt = model.predict(test_x)\n",
    "print(y_pt)"
   ]
  },
  {
   "cell_type": "code",
   "execution_count": 29,
   "metadata": {},
   "outputs": [],
   "source": [
    "y_pt = pd.DataFrame(y_pt)"
   ]
  },
  {
   "cell_type": "code",
   "execution_count": 30,
   "metadata": {},
   "outputs": [
    {
     "name": "stdout",
     "output_type": "stream",
     "text": [
      "             0\n",
      "0  1805.493975\n",
      "1  1821.132880\n",
      "2  1894.841482\n",
      "3  1903.074165\n",
      "4  1800.562118\n"
     ]
    }
   ],
   "source": [
    "print(y_pt.head(n=5))"
   ]
  },
  {
   "cell_type": "code",
   "execution_count": 31,
   "metadata": {},
   "outputs": [],
   "source": [
    "y_pt.to_csv(\"sample_submission.csv\")"
   ]
  },
  {
   "cell_type": "code",
   "execution_count": null,
   "metadata": {},
   "outputs": [],
   "source": []
  }
 ],
 "metadata": {
  "kernelspec": {
   "display_name": "Python 3",
   "language": "python",
   "name": "python3"
  },
  "language_info": {
   "codemirror_mode": {
    "name": "ipython",
    "version": 3
   },
   "file_extension": ".py",
   "mimetype": "text/x-python",
   "name": "python",
   "nbconvert_exporter": "python",
   "pygments_lexer": "ipython3",
   "version": "3.6.8"
  }
 },
 "nbformat": 4,
 "nbformat_minor": 2
}
